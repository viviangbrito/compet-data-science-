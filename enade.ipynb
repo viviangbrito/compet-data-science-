{
 "cells": [
  {
   "cell_type": "markdown",
   "id": "6ef3a9cc",
   "metadata": {},
   "source": [
    "# Análise do ENADE 2023\n",
    "Este notebook realiza uma análise exploratória dos dados do ENADE com foco em: leitura de dados, data wrangling, estatísticas descritivas, agregações e visualizações para posterior exportação ao Power BI."
   ]
  },
  {
   "cell_type": "code",
   "execution_count": null,
   "id": "a2ddc24a",
   "metadata": {},
   "outputs": [],
   "source": [
    "# Bibliotecas\n",
    "import pandas as pd\n",
    "import matplotlib.pyplot as plt\n",
    "import seaborn as sns\n",
    "import numpy as np\n",
    "\n",
    "plt.style.use('seaborn-v0_8-whitegrid')\n",
    "sns.set_palette('pastel')\n"
   ]
  },
  {
   "cell_type": "code",
   "execution_count": null,
   "id": "623d336f",
   "metadata": {},
   "outputs": [],
   "source": [
    "# Leitura do arquivo\n",
    "df = pd.read_excel(\"conceito_enade_2023.xlsx\")\n",
    "print(\" Dados carregados com sucesso!\")"
   ]
  },
  {
   "cell_type": "code",
   "execution_count": null,
   "id": "d96894bd",
   "metadata": {},
   "outputs": [],
   "source": [
    "# Informações gerais\n",
    "print(\"Info:\")\n",
    "print(df.info())\n",
    "print(\"\\n Estatísticas descritivas:\")\n",
    "print(df.describe(include='all'))"
   ]
  },
  {
   "cell_type": "code",
   "execution_count": null,
   "id": "0e739b33",
   "metadata": {},
   "outputs": [],
   "source": [
    "# Renomeando e limpando colunas\n",
    "df.columns = df.columns.str.strip().str.lower().str.replace(' ', '_').str.replace('*', '', regex=False).str.replace('**', '', regex=False)\n",
    "print(\"Colunas normalizadas:\")\n",
    "print(df.columns.tolist())"
   ]
  },
  {
   "cell_type": "code",
   "execution_count": null,
   "id": "b46393cc",
   "metadata": {},
   "outputs": [],
   "source": [
    "# Seleção de colunas relevantes\n",
    "colunas_relevantes = [\n",
    "    'ano', 'área_de_avaliação', 'grau_acadêmico', 'nome_da_ies', 'organização_acadêmica',\n",
    "    'categoria_administrativa', 'município_do_curso', 'sigla_da_uf',\n",
    "    'nº__de_concluintes_participantes', 'nota_padronizada_-_fg', 'nota_padronizada_-_ce',\n",
    "    'conceito_enade_(contínuo)', 'conceito_enade_(faixa)'\n",
    "]\n",
    "df = df[colunas_relevantes]"
   ]
  },
  {
   "cell_type": "code",
   "execution_count": null,
   "id": "b26b3aee",
   "metadata": {},
   "outputs": [],
   "source": [
    "# 🔍 Verificando e tratando valores faltantes\n",
    "print(\"🔍 Valores nulos antes do tratamento:\")\n",
    "print(df.isnull().sum())\n",
    "\n",
    "# Remover linhas sem nota\n",
    "df = df.dropna(subset=['nota_padronizada_-_fg', 'nota_padronizada_-_ce'])\n",
    "\n",
    "# Preenchendo faltantes com média\n",
    "df['conceito_enade_(contínuo)'].fillna(df['conceito_enade_(contínuo)'].mean(), inplace=True)\n",
    "\n",
    "# Drop em demais faltantes\n",
    "df.dropna(inplace=True)\n",
    "print(\" Após tratamento:\")\n",
    "print(df.isnull().sum())"
   ]
  },
  {
   "cell_type": "code",
   "execution_count": null,
   "id": "b699d6c8",
   "metadata": {},
   "outputs": [],
   "source": [
    "# Agregações\n",
    "# Média de notas por ano\n",
    "media_por_ano = df.groupby('ano')[['nota_padronizada_-_fg', 'nota_padronizada_-_ce']].mean()\n",
    "print(\" Média por ano:\")\n",
    "print(media_por_ano)\n",
    "\n",
    "# Média por UF\n",
    "media_por_estado = df.groupby('sigla_da_uf')['conceito_enade_(contínuo)'].mean().sort_values(ascending=False)\n",
    "\n",
    "# Média por área\n",
    "media_por_area = df.groupby('área_de_avaliação')['nota_padronizada_-_fg'].mean().sort_values(ascending=False)\n"
   ]
  },
  {
   "cell_type": "code",
   "execution_count": null,
   "id": "6405ef3f",
   "metadata": {},
   "outputs": [],
   "source": [
    "# Visualização 1: Evolução das notas por ano\n",
    "media_por_ano.plot(kind='line', marker='o', figsize=(10, 6))\n",
    "plt.title('Evolução das Notas Padronizadas - FG e CE')\n",
    "plt.ylabel('Nota Padronizada')\n",
    "plt.grid(True)\n",
    "plt.show()"
   ]
  },
  {
   "cell_type": "code",
   "execution_count": null,
   "id": "152c145c",
   "metadata": {},
   "outputs": [],
   "source": [
    "# Visualização 2: Conceito Enade médio por estado\n",
    "plt.figure(figsize=(12, 6))\n",
    "sns.barplot(x=media_por_estado.index, y=media_por_estado.values)\n",
    "plt.xticks(rotation=90)\n",
    "plt.title('Conceito Enade Médio por Estado (UF)')\n",
    "plt.ylabel('Conceito Médio')\n",
    "plt.show()"
   ]
  },
  {
   "cell_type": "code",
   "execution_count": null,
   "id": "a44524d3",
   "metadata": {},
   "outputs": [],
   "source": [
    "# Visualização 3: Boxplot por grau acadêmico\n",
    "plt.figure(figsize=(10, 6))\n",
    "sns.boxplot(data=df, x='grau_acadêmico', y='nota_padronizada_-_fg')\n",
    "plt.title('Distribuição da Nota Padronizada - FG por Grau Acadêmico')\n",
    "plt.show()"
   ]
  },
  {
   "cell_type": "code",
   "execution_count": null,
   "id": "085d34ae",
   "metadata": {},
   "outputs": [],
   "source": [
    "# Visualização 4: Heatmap de notas por UF e Grau Acadêmico\n",
    "pivot_heatmap = df.pivot_table(values='nota_padronizada_-_fg', index='sigla_da_uf', columns='grau_acadêmico', aggfunc='mean')\n",
    "plt.figure(figsize=(10, 6))\n",
    "sns.heatmap(pivot_heatmap, annot=True, fmt=\".1f\", cmap=\"YlGnBu\")\n",
    "plt.title('Média da Nota Padronizada - FG por UF e Grau Acadêmico')\n",
    "plt.show()"
   ]
  },
  {
   "cell_type": "code",
   "execution_count": null,
   "id": "ff408f2e",
   "metadata": {},
   "outputs": [],
   "source": [
    "# Exportação para Power BI\n",
    "df.to_csv('enade_tratado.csv', index=False)\n",
    "print(\" Dados exportados para 'enade_tratado.csv'. Pronto para Power BI.\")"
   ]
  }
 ],
 "metadata": {},
 "nbformat": 4,
 "nbformat_minor": 5
}
